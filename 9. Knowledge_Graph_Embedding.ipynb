{
  "nbformat": 4,
  "nbformat_minor": 0,
  "metadata": {
    "kernelspec": {
      "display_name": "Python 3",
      "language": "python",
      "name": "python3"
    },
    "language_info": {
      "codemirror_mode": {
        "name": "ipython",
        "version": 3
      },
      "file_extension": ".py",
      "mimetype": "text/x-python",
      "name": "python",
      "nbconvert_exporter": "python",
      "pygments_lexer": "ipython3",
      "version": "3.8.8"
    },
    "colab": {
      "name": "Knowledge Graph Embedding.ipynb",
      "provenance": [],
      "collapsed_sections": [],
      "toc_visible": true
    },
    "widgets": {
      "application/vnd.jupyter.widget-state+json": {
        "cf211e0eca0f4c9f9f8e0bb2406b9558": {
          "model_module": "@jupyter-widgets/controls",
          "model_name": "HBoxModel",
          "model_module_version": "1.5.0",
          "state": {
            "_view_name": "HBoxView",
            "_dom_classes": [],
            "_model_name": "HBoxModel",
            "_view_module": "@jupyter-widgets/controls",
            "_model_module_version": "1.5.0",
            "_view_count": null,
            "_view_module_version": "1.5.0",
            "box_style": "",
            "layout": "IPY_MODEL_2d2f7e9387994650a027c7fccb84e801",
            "_model_module": "@jupyter-widgets/controls",
            "children": [
              "IPY_MODEL_42496f6f4a2947088acd3c6ee0624141",
              "IPY_MODEL_18dc8957a1cd43c6a90b5adf5c1cb706",
              "IPY_MODEL_152b80ce63804367a0e91ea00c6e7c00"
            ]
          }
        },
        "2d2f7e9387994650a027c7fccb84e801": {
          "model_module": "@jupyter-widgets/base",
          "model_name": "LayoutModel",
          "model_module_version": "1.2.0",
          "state": {
            "_view_name": "LayoutView",
            "grid_template_rows": null,
            "right": null,
            "justify_content": null,
            "_view_module": "@jupyter-widgets/base",
            "overflow": null,
            "_model_module_version": "1.2.0",
            "_view_count": null,
            "flex_flow": null,
            "width": null,
            "min_width": null,
            "border": null,
            "align_items": null,
            "bottom": null,
            "_model_module": "@jupyter-widgets/base",
            "top": null,
            "grid_column": null,
            "overflow_y": null,
            "overflow_x": null,
            "grid_auto_flow": null,
            "grid_area": null,
            "grid_template_columns": null,
            "flex": null,
            "_model_name": "LayoutModel",
            "justify_items": null,
            "grid_row": null,
            "max_height": null,
            "align_content": null,
            "visibility": null,
            "align_self": null,
            "height": null,
            "min_height": null,
            "padding": null,
            "grid_auto_rows": null,
            "grid_gap": null,
            "max_width": null,
            "order": null,
            "_view_module_version": "1.2.0",
            "grid_template_areas": null,
            "object_position": null,
            "object_fit": null,
            "grid_auto_columns": null,
            "margin": null,
            "display": null,
            "left": null
          }
        },
        "42496f6f4a2947088acd3c6ee0624141": {
          "model_module": "@jupyter-widgets/controls",
          "model_name": "HTMLModel",
          "model_module_version": "1.5.0",
          "state": {
            "_view_name": "HTMLView",
            "style": "IPY_MODEL_33e420c433c94631b11562ca88d4d85d",
            "_dom_classes": [],
            "description": "",
            "_model_name": "HTMLModel",
            "placeholder": "​",
            "_view_module": "@jupyter-widgets/controls",
            "_model_module_version": "1.5.0",
            "value": "Epoch 200 | mean loss: 0.03666: 100%",
            "_view_count": null,
            "_view_module_version": "1.5.0",
            "description_tooltip": null,
            "_model_module": "@jupyter-widgets/controls",
            "layout": "IPY_MODEL_dda3e0108bff4437957e55392cbc0cbe"
          }
        },
        "18dc8957a1cd43c6a90b5adf5c1cb706": {
          "model_module": "@jupyter-widgets/controls",
          "model_name": "FloatProgressModel",
          "model_module_version": "1.5.0",
          "state": {
            "_view_name": "ProgressView",
            "style": "IPY_MODEL_cb363682ff2e4536880dad06a285a928",
            "_dom_classes": [],
            "description": "",
            "_model_name": "FloatProgressModel",
            "bar_style": "success",
            "max": 200,
            "_view_module": "@jupyter-widgets/controls",
            "_model_module_version": "1.5.0",
            "value": 200,
            "_view_count": null,
            "_view_module_version": "1.5.0",
            "orientation": "horizontal",
            "min": 0,
            "description_tooltip": null,
            "_model_module": "@jupyter-widgets/controls",
            "layout": "IPY_MODEL_5029224d98014af1abf5b24ed8ad3d00"
          }
        },
        "152b80ce63804367a0e91ea00c6e7c00": {
          "model_module": "@jupyter-widgets/controls",
          "model_name": "HTMLModel",
          "model_module_version": "1.5.0",
          "state": {
            "_view_name": "HTMLView",
            "style": "IPY_MODEL_a56b494f230b46de8b25651c9d268082",
            "_dom_classes": [],
            "description": "",
            "_model_name": "HTMLModel",
            "placeholder": "​",
            "_view_module": "@jupyter-widgets/controls",
            "_model_module_version": "1.5.0",
            "value": " 200/200 [02:27&lt;00:00,  1.39epoch/s]",
            "_view_count": null,
            "_view_module_version": "1.5.0",
            "description_tooltip": null,
            "_model_module": "@jupyter-widgets/controls",
            "layout": "IPY_MODEL_c6c55dae4b904ac4961b09386669fbdb"
          }
        },
        "33e420c433c94631b11562ca88d4d85d": {
          "model_module": "@jupyter-widgets/controls",
          "model_name": "DescriptionStyleModel",
          "model_module_version": "1.5.0",
          "state": {
            "_view_name": "StyleView",
            "_model_name": "DescriptionStyleModel",
            "description_width": "",
            "_view_module": "@jupyter-widgets/base",
            "_model_module_version": "1.5.0",
            "_view_count": null,
            "_view_module_version": "1.2.0",
            "_model_module": "@jupyter-widgets/controls"
          }
        },
        "dda3e0108bff4437957e55392cbc0cbe": {
          "model_module": "@jupyter-widgets/base",
          "model_name": "LayoutModel",
          "model_module_version": "1.2.0",
          "state": {
            "_view_name": "LayoutView",
            "grid_template_rows": null,
            "right": null,
            "justify_content": null,
            "_view_module": "@jupyter-widgets/base",
            "overflow": null,
            "_model_module_version": "1.2.0",
            "_view_count": null,
            "flex_flow": null,
            "width": null,
            "min_width": null,
            "border": null,
            "align_items": null,
            "bottom": null,
            "_model_module": "@jupyter-widgets/base",
            "top": null,
            "grid_column": null,
            "overflow_y": null,
            "overflow_x": null,
            "grid_auto_flow": null,
            "grid_area": null,
            "grid_template_columns": null,
            "flex": null,
            "_model_name": "LayoutModel",
            "justify_items": null,
            "grid_row": null,
            "max_height": null,
            "align_content": null,
            "visibility": null,
            "align_self": null,
            "height": null,
            "min_height": null,
            "padding": null,
            "grid_auto_rows": null,
            "grid_gap": null,
            "max_width": null,
            "order": null,
            "_view_module_version": "1.2.0",
            "grid_template_areas": null,
            "object_position": null,
            "object_fit": null,
            "grid_auto_columns": null,
            "margin": null,
            "display": null,
            "left": null
          }
        },
        "cb363682ff2e4536880dad06a285a928": {
          "model_module": "@jupyter-widgets/controls",
          "model_name": "ProgressStyleModel",
          "model_module_version": "1.5.0",
          "state": {
            "_view_name": "StyleView",
            "_model_name": "ProgressStyleModel",
            "description_width": "",
            "_view_module": "@jupyter-widgets/base",
            "_model_module_version": "1.5.0",
            "_view_count": null,
            "_view_module_version": "1.2.0",
            "bar_color": null,
            "_model_module": "@jupyter-widgets/controls"
          }
        },
        "5029224d98014af1abf5b24ed8ad3d00": {
          "model_module": "@jupyter-widgets/base",
          "model_name": "LayoutModel",
          "model_module_version": "1.2.0",
          "state": {
            "_view_name": "LayoutView",
            "grid_template_rows": null,
            "right": null,
            "justify_content": null,
            "_view_module": "@jupyter-widgets/base",
            "overflow": null,
            "_model_module_version": "1.2.0",
            "_view_count": null,
            "flex_flow": null,
            "width": null,
            "min_width": null,
            "border": null,
            "align_items": null,
            "bottom": null,
            "_model_module": "@jupyter-widgets/base",
            "top": null,
            "grid_column": null,
            "overflow_y": null,
            "overflow_x": null,
            "grid_auto_flow": null,
            "grid_area": null,
            "grid_template_columns": null,
            "flex": null,
            "_model_name": "LayoutModel",
            "justify_items": null,
            "grid_row": null,
            "max_height": null,
            "align_content": null,
            "visibility": null,
            "align_self": null,
            "height": null,
            "min_height": null,
            "padding": null,
            "grid_auto_rows": null,
            "grid_gap": null,
            "max_width": null,
            "order": null,
            "_view_module_version": "1.2.0",
            "grid_template_areas": null,
            "object_position": null,
            "object_fit": null,
            "grid_auto_columns": null,
            "margin": null,
            "display": null,
            "left": null
          }
        },
        "a56b494f230b46de8b25651c9d268082": {
          "model_module": "@jupyter-widgets/controls",
          "model_name": "DescriptionStyleModel",
          "model_module_version": "1.5.0",
          "state": {
            "_view_name": "StyleView",
            "_model_name": "DescriptionStyleModel",
            "description_width": "",
            "_view_module": "@jupyter-widgets/base",
            "_model_module_version": "1.5.0",
            "_view_count": null,
            "_view_module_version": "1.2.0",
            "_model_module": "@jupyter-widgets/controls"
          }
        },
        "c6c55dae4b904ac4961b09386669fbdb": {
          "model_module": "@jupyter-widgets/base",
          "model_name": "LayoutModel",
          "model_module_version": "1.2.0",
          "state": {
            "_view_name": "LayoutView",
            "grid_template_rows": null,
            "right": null,
            "justify_content": null,
            "_view_module": "@jupyter-widgets/base",
            "overflow": null,
            "_model_module_version": "1.2.0",
            "_view_count": null,
            "flex_flow": null,
            "width": null,
            "min_width": null,
            "border": null,
            "align_items": null,
            "bottom": null,
            "_model_module": "@jupyter-widgets/base",
            "top": null,
            "grid_column": null,
            "overflow_y": null,
            "overflow_x": null,
            "grid_auto_flow": null,
            "grid_area": null,
            "grid_template_columns": null,
            "flex": null,
            "_model_name": "LayoutModel",
            "justify_items": null,
            "grid_row": null,
            "max_height": null,
            "align_content": null,
            "visibility": null,
            "align_self": null,
            "height": null,
            "min_height": null,
            "padding": null,
            "grid_auto_rows": null,
            "grid_gap": null,
            "max_width": null,
            "order": null,
            "_view_module_version": "1.2.0",
            "grid_template_areas": null,
            "object_position": null,
            "object_fit": null,
            "grid_auto_columns": null,
            "margin": null,
            "display": null,
            "left": null
          }
        },
        "7c57caed967448a2971fe7c045e2662b": {
          "model_module": "@jupyter-widgets/controls",
          "model_name": "HBoxModel",
          "model_module_version": "1.5.0",
          "state": {
            "_view_name": "HBoxView",
            "_dom_classes": [],
            "_model_name": "HBoxModel",
            "_view_module": "@jupyter-widgets/controls",
            "_model_module_version": "1.5.0",
            "_view_count": null,
            "_view_module_version": "1.5.0",
            "box_style": "",
            "layout": "IPY_MODEL_0f7847e2e3304fc097758d1e64eac3f6",
            "_model_module": "@jupyter-widgets/controls",
            "children": [
              "IPY_MODEL_9d9a2bfd6f7b41689f41c79d410a6ce8",
              "IPY_MODEL_a698ee224a414af3bea599d315d4122c",
              "IPY_MODEL_51d97ba36a8a409c940ead4787f42cfe"
            ]
          }
        },
        "0f7847e2e3304fc097758d1e64eac3f6": {
          "model_module": "@jupyter-widgets/base",
          "model_name": "LayoutModel",
          "model_module_version": "1.2.0",
          "state": {
            "_view_name": "LayoutView",
            "grid_template_rows": null,
            "right": null,
            "justify_content": null,
            "_view_module": "@jupyter-widgets/base",
            "overflow": null,
            "_model_module_version": "1.2.0",
            "_view_count": null,
            "flex_flow": null,
            "width": null,
            "min_width": null,
            "border": null,
            "align_items": null,
            "bottom": null,
            "_model_module": "@jupyter-widgets/base",
            "top": null,
            "grid_column": null,
            "overflow_y": null,
            "overflow_x": null,
            "grid_auto_flow": null,
            "grid_area": null,
            "grid_template_columns": null,
            "flex": null,
            "_model_name": "LayoutModel",
            "justify_items": null,
            "grid_row": null,
            "max_height": null,
            "align_content": null,
            "visibility": null,
            "align_self": null,
            "height": null,
            "min_height": null,
            "padding": null,
            "grid_auto_rows": null,
            "grid_gap": null,
            "max_width": null,
            "order": null,
            "_view_module_version": "1.2.0",
            "grid_template_areas": null,
            "object_position": null,
            "object_fit": null,
            "grid_auto_columns": null,
            "margin": null,
            "display": null,
            "left": null
          }
        },
        "9d9a2bfd6f7b41689f41c79d410a6ce8": {
          "model_module": "@jupyter-widgets/controls",
          "model_name": "HTMLModel",
          "model_module_version": "1.5.0",
          "state": {
            "_view_name": "HTMLView",
            "style": "IPY_MODEL_e81a3ddf9ba740a2ba096a81f30b96e3",
            "_dom_classes": [],
            "description": "",
            "_model_name": "HTMLModel",
            "placeholder": "​",
            "_view_module": "@jupyter-widgets/controls",
            "_model_module_version": "1.5.0",
            "value": "Link prediction evaluation: 100%",
            "_view_count": null,
            "_view_module_version": "1.5.0",
            "description_tooltip": null,
            "_model_module": "@jupyter-widgets/controls",
            "layout": "IPY_MODEL_8aa7f104c966413e9838b1c75b412314"
          }
        },
        "a698ee224a414af3bea599d315d4122c": {
          "model_module": "@jupyter-widgets/controls",
          "model_name": "FloatProgressModel",
          "model_module_version": "1.5.0",
          "state": {
            "_view_name": "ProgressView",
            "style": "IPY_MODEL_875fb742406f49b0a5837adc00c6e70d",
            "_dom_classes": [],
            "description": "",
            "_model_name": "FloatProgressModel",
            "bar_style": "success",
            "max": 17,
            "_view_module": "@jupyter-widgets/controls",
            "_model_module_version": "1.5.0",
            "value": 17,
            "_view_count": null,
            "_view_module_version": "1.5.0",
            "orientation": "horizontal",
            "min": 0,
            "description_tooltip": null,
            "_model_module": "@jupyter-widgets/controls",
            "layout": "IPY_MODEL_cc5a1ab202ac4939b2b809a7240d4e55"
          }
        },
        "51d97ba36a8a409c940ead4787f42cfe": {
          "model_module": "@jupyter-widgets/controls",
          "model_name": "HTMLModel",
          "model_module_version": "1.5.0",
          "state": {
            "_view_name": "HTMLView",
            "style": "IPY_MODEL_dc7ff25adcad48189e9329b08d7fcf80",
            "_dom_classes": [],
            "description": "",
            "_model_name": "HTMLModel",
            "placeholder": "​",
            "_view_module": "@jupyter-widgets/controls",
            "_model_module_version": "1.5.0",
            "value": " 17/17 [00:03&lt;00:00,  6.27batch/s]",
            "_view_count": null,
            "_view_module_version": "1.5.0",
            "description_tooltip": null,
            "_model_module": "@jupyter-widgets/controls",
            "layout": "IPY_MODEL_251fde9c05d54ce5b9635f42419aade2"
          }
        },
        "e81a3ddf9ba740a2ba096a81f30b96e3": {
          "model_module": "@jupyter-widgets/controls",
          "model_name": "DescriptionStyleModel",
          "model_module_version": "1.5.0",
          "state": {
            "_view_name": "StyleView",
            "_model_name": "DescriptionStyleModel",
            "description_width": "",
            "_view_module": "@jupyter-widgets/base",
            "_model_module_version": "1.5.0",
            "_view_count": null,
            "_view_module_version": "1.2.0",
            "_model_module": "@jupyter-widgets/controls"
          }
        },
        "8aa7f104c966413e9838b1c75b412314": {
          "model_module": "@jupyter-widgets/base",
          "model_name": "LayoutModel",
          "model_module_version": "1.2.0",
          "state": {
            "_view_name": "LayoutView",
            "grid_template_rows": null,
            "right": null,
            "justify_content": null,
            "_view_module": "@jupyter-widgets/base",
            "overflow": null,
            "_model_module_version": "1.2.0",
            "_view_count": null,
            "flex_flow": null,
            "width": null,
            "min_width": null,
            "border": null,
            "align_items": null,
            "bottom": null,
            "_model_module": "@jupyter-widgets/base",
            "top": null,
            "grid_column": null,
            "overflow_y": null,
            "overflow_x": null,
            "grid_auto_flow": null,
            "grid_area": null,
            "grid_template_columns": null,
            "flex": null,
            "_model_name": "LayoutModel",
            "justify_items": null,
            "grid_row": null,
            "max_height": null,
            "align_content": null,
            "visibility": null,
            "align_self": null,
            "height": null,
            "min_height": null,
            "padding": null,
            "grid_auto_rows": null,
            "grid_gap": null,
            "max_width": null,
            "order": null,
            "_view_module_version": "1.2.0",
            "grid_template_areas": null,
            "object_position": null,
            "object_fit": null,
            "grid_auto_columns": null,
            "margin": null,
            "display": null,
            "left": null
          }
        },
        "875fb742406f49b0a5837adc00c6e70d": {
          "model_module": "@jupyter-widgets/controls",
          "model_name": "ProgressStyleModel",
          "model_module_version": "1.5.0",
          "state": {
            "_view_name": "StyleView",
            "_model_name": "ProgressStyleModel",
            "description_width": "",
            "_view_module": "@jupyter-widgets/base",
            "_model_module_version": "1.5.0",
            "_view_count": null,
            "_view_module_version": "1.2.0",
            "bar_color": null,
            "_model_module": "@jupyter-widgets/controls"
          }
        },
        "cc5a1ab202ac4939b2b809a7240d4e55": {
          "model_module": "@jupyter-widgets/base",
          "model_name": "LayoutModel",
          "model_module_version": "1.2.0",
          "state": {
            "_view_name": "LayoutView",
            "grid_template_rows": null,
            "right": null,
            "justify_content": null,
            "_view_module": "@jupyter-widgets/base",
            "overflow": null,
            "_model_module_version": "1.2.0",
            "_view_count": null,
            "flex_flow": null,
            "width": null,
            "min_width": null,
            "border": null,
            "align_items": null,
            "bottom": null,
            "_model_module": "@jupyter-widgets/base",
            "top": null,
            "grid_column": null,
            "overflow_y": null,
            "overflow_x": null,
            "grid_auto_flow": null,
            "grid_area": null,
            "grid_template_columns": null,
            "flex": null,
            "_model_name": "LayoutModel",
            "justify_items": null,
            "grid_row": null,
            "max_height": null,
            "align_content": null,
            "visibility": null,
            "align_self": null,
            "height": null,
            "min_height": null,
            "padding": null,
            "grid_auto_rows": null,
            "grid_gap": null,
            "max_width": null,
            "order": null,
            "_view_module_version": "1.2.0",
            "grid_template_areas": null,
            "object_position": null,
            "object_fit": null,
            "grid_auto_columns": null,
            "margin": null,
            "display": null,
            "left": null
          }
        },
        "dc7ff25adcad48189e9329b08d7fcf80": {
          "model_module": "@jupyter-widgets/controls",
          "model_name": "DescriptionStyleModel",
          "model_module_version": "1.5.0",
          "state": {
            "_view_name": "StyleView",
            "_model_name": "DescriptionStyleModel",
            "description_width": "",
            "_view_module": "@jupyter-widgets/base",
            "_model_module_version": "1.5.0",
            "_view_count": null,
            "_view_module_version": "1.2.0",
            "_model_module": "@jupyter-widgets/controls"
          }
        },
        "251fde9c05d54ce5b9635f42419aade2": {
          "model_module": "@jupyter-widgets/base",
          "model_name": "LayoutModel",
          "model_module_version": "1.2.0",
          "state": {
            "_view_name": "LayoutView",
            "grid_template_rows": null,
            "right": null,
            "justify_content": null,
            "_view_module": "@jupyter-widgets/base",
            "overflow": null,
            "_model_module_version": "1.2.0",
            "_view_count": null,
            "flex_flow": null,
            "width": null,
            "min_width": null,
            "border": null,
            "align_items": null,
            "bottom": null,
            "_model_module": "@jupyter-widgets/base",
            "top": null,
            "grid_column": null,
            "overflow_y": null,
            "overflow_x": null,
            "grid_auto_flow": null,
            "grid_area": null,
            "grid_template_columns": null,
            "flex": null,
            "_model_name": "LayoutModel",
            "justify_items": null,
            "grid_row": null,
            "max_height": null,
            "align_content": null,
            "visibility": null,
            "align_self": null,
            "height": null,
            "min_height": null,
            "padding": null,
            "grid_auto_rows": null,
            "grid_gap": null,
            "max_width": null,
            "order": null,
            "_view_module_version": "1.2.0",
            "grid_template_areas": null,
            "object_position": null,
            "object_fit": null,
            "grid_auto_columns": null,
            "margin": null,
            "display": null,
            "left": null
          }
        }
      }
    }
  },
  "cells": [
    {
      "cell_type": "markdown",
      "metadata": {
        "id": "a2SchDjOK60H"
      },
      "source": [
        "# Assignment — Knowledge Graph Embedding"
      ]
    },
    {
      "cell_type": "markdown",
      "metadata": {
        "id": "Jc_aVR7uK60M"
      },
      "source": [
        "In this assignment we will see how to use the [TorchKGE](https://github.com/torchkge-team/torchkge) library for building knowledge graphs and its embeddings."
      ]
    },
    {
      "cell_type": "code",
      "metadata": {
        "id": "3ncvld71K60N"
      },
      "source": [
        "import numpy as np\n",
        "import pandas as pd\n",
        "pd.options.display.max_colwidth = 100\n",
        "from zlib import adler32\n",
        "import requests"
      ],
      "execution_count": 614,
      "outputs": []
    },
    {
      "cell_type": "markdown",
      "metadata": {
        "id": "IGY2VZOyK60O"
      },
      "source": [
        "### Task 1. Dataset exploration (0 points)"
      ]
    },
    {
      "cell_type": "markdown",
      "metadata": {
        "id": "rpWffQcUK60P"
      },
      "source": [
        "To begin with we are going to need a knowledge graph, so let us load a standard knowledge graph dataset called _Freebase-15k-237_."
      ]
    },
    {
      "cell_type": "code",
      "metadata": {
        "id": "yvny0v6GK60P"
      },
      "source": [
        "df = pd.read_csv(\n",
        "    \"https://raw.githubusercontent.com/netspractice/network-science/main/datasets/freebase-237-merged-and-remapped.csv.gz\", \n",
        "    names=['h', 'r', 't'])"
      ],
      "execution_count": 615,
      "outputs": []
    },
    {
      "cell_type": "code",
      "metadata": {
        "id": "P_95wzXtK60Q",
        "colab": {
          "base_uri": "https://localhost:8080/",
          "height": 357
        },
        "outputId": "9335aa42-e622-4736-e379-2f433a2e80dd"
      },
      "source": [
        "df = df[~df.h.str.startswith('/') & ~df.t.str.startswith('/')]\n",
        "df[::1000].head(10)"
      ],
      "execution_count": 616,
      "outputs": [
        {
          "output_type": "execute_result",
          "data": {
            "text/html": [
              "<div>\n",
              "<style scoped>\n",
              "    .dataframe tbody tr th:only-of-type {\n",
              "        vertical-align: middle;\n",
              "    }\n",
              "\n",
              "    .dataframe tbody tr th {\n",
              "        vertical-align: top;\n",
              "    }\n",
              "\n",
              "    .dataframe thead th {\n",
              "        text-align: right;\n",
              "    }\n",
              "</style>\n",
              "<table border=\"1\" class=\"dataframe\">\n",
              "  <thead>\n",
              "    <tr style=\"text-align: right;\">\n",
              "      <th></th>\n",
              "      <th>h</th>\n",
              "      <th>r</th>\n",
              "      <th>t</th>\n",
              "    </tr>\n",
              "  </thead>\n",
              "  <tbody>\n",
              "    <tr>\n",
              "      <th>0</th>\n",
              "      <td>queens college, city university of new york</td>\n",
              "      <td>/education/educational_institution/students_graduates./education/education/student</td>\n",
              "      <td>carol leifer</td>\n",
              "    </tr>\n",
              "    <tr>\n",
              "      <th>1103</th>\n",
              "      <td>sharon stone</td>\n",
              "      <td>/award/award_nominee/award_nominations./award/award_nomination/award_nominee</td>\n",
              "      <td>jacob vargas</td>\n",
              "    </tr>\n",
              "    <tr>\n",
              "      <th>2210</th>\n",
              "      <td>japan</td>\n",
              "      <td>/location/country/capital</td>\n",
              "      <td>tokyo</td>\n",
              "    </tr>\n",
              "    <tr>\n",
              "      <th>3329</th>\n",
              "      <td>syphilis</td>\n",
              "      <td>/medicine/disease/risk_factors</td>\n",
              "      <td>male</td>\n",
              "    </tr>\n",
              "    <tr>\n",
              "      <th>4447</th>\n",
              "      <td>michael carlisle hall</td>\n",
              "      <td>/award/award_nominee/award_nominations./award/award_nomination/award_nominee</td>\n",
              "      <td>mena suvari</td>\n",
              "    </tr>\n",
              "    <tr>\n",
              "      <th>5555</th>\n",
              "      <td>alice in wonderland</td>\n",
              "      <td>/film/film/language</td>\n",
              "      <td>english language</td>\n",
              "    </tr>\n",
              "    <tr>\n",
              "      <th>6653</th>\n",
              "      <td>nauru</td>\n",
              "      <td>/location/country/official_language</td>\n",
              "      <td>english language</td>\n",
              "    </tr>\n",
              "    <tr>\n",
              "      <th>7743</th>\n",
              "      <td>ben harper</td>\n",
              "      <td>/people/person/spouse_s./people/marriage/type_of_union</td>\n",
              "      <td>marriage</td>\n",
              "    </tr>\n",
              "    <tr>\n",
              "      <th>8840</th>\n",
              "      <td>the perks of being a wallflower</td>\n",
              "      <td>/film/film/country</td>\n",
              "      <td>united states of america</td>\n",
              "    </tr>\n",
              "    <tr>\n",
              "      <th>9960</th>\n",
              "      <td>vice president</td>\n",
              "      <td>/business/job_title/people_with_this_title./business/employment_tenure/company</td>\n",
              "      <td>scripps howard broadcasting</td>\n",
              "    </tr>\n",
              "  </tbody>\n",
              "</table>\n",
              "</div>"
            ],
            "text/plain": [
              "                                                h  ...                            t\n",
              "0     queens college, city university of new york  ...                 carol leifer\n",
              "1103                                 sharon stone  ...                 jacob vargas\n",
              "2210                                        japan  ...                        tokyo\n",
              "3329                                     syphilis  ...                         male\n",
              "4447                        michael carlisle hall  ...                  mena suvari\n",
              "5555                          alice in wonderland  ...             english language\n",
              "6653                                        nauru  ...             english language\n",
              "7743                                   ben harper  ...                     marriage\n",
              "8840              the perks of being a wallflower  ...     united states of america\n",
              "9960                               vice president  ...  scripps howard broadcasting\n",
              "\n",
              "[10 rows x 3 columns]"
            ]
          },
          "metadata": {},
          "execution_count": 616
        }
      ]
    },
    {
      "cell_type": "markdown",
      "metadata": {
        "id": "l_ZtEGoPK60R"
      },
      "source": [
        "There is h — head (also subject), r — relation (also predicat, label), t — tail (also object). The shape of the dataset is"
      ]
    },
    {
      "cell_type": "code",
      "metadata": {
        "id": "pMw60f30K60R",
        "colab": {
          "base_uri": "https://localhost:8080/"
        },
        "outputId": "93ef549f-614c-4f52-ac3a-1740e1e4c2c1"
      },
      "source": [
        "df.shape"
      ],
      "execution_count": 617,
      "outputs": [
        {
          "output_type": "execute_result",
          "data": {
            "text/plain": [
              "(282560, 3)"
            ]
          },
          "metadata": {},
          "execution_count": 617
        }
      ]
    },
    {
      "cell_type": "markdown",
      "metadata": {
        "id": "9w5VNlTbK60S"
      },
      "source": [
        "Let us check the number of unique entities and unique relations.\n",
        "\n",
        "Write a funtion `n_ent_rel` that takes a dataset and returns a number of unique entities and unique relations.\n"
      ]
    },
    {
      "cell_type": "code",
      "metadata": {
        "deletable": false,
        "nbgrader": {
          "cell_type": "code",
          "checksum": "e835a990ce88589b1e4baa4e213e5aed",
          "grade": false,
          "grade_id": "cell-a1c37b647b2bd8d4",
          "locked": false,
          "schema_version": 3,
          "solution": true,
          "task": false
        },
        "id": "-5y7ZMkhK60T"
      },
      "source": [
        "def n_ent_rel(df):\n",
        "    ### BEGIN SOLUTION\n",
        "    X = df.values\n",
        "    n_ent = np.unique(np.concatenate([X[:, 0], X[:, 2]])).shape[0]\n",
        "    n_rel = np.unique(X[:, 1]).shape[0]\n",
        "    return n_ent, n_rel\n",
        "    ### END SOLUTION"
      ],
      "execution_count": 618,
      "outputs": []
    },
    {
      "cell_type": "code",
      "metadata": {
        "deletable": false,
        "editable": false,
        "nbgrader": {
          "cell_type": "code",
          "checksum": "4c38a2775794c5a0dabc449667e27643",
          "grade": true,
          "grade_id": "cell-e297130eb1b840de",
          "locked": true,
          "points": 0,
          "schema_version": 3,
          "solution": false,
          "task": false
        },
        "id": "DKHcDblxK60T",
        "colab": {
          "base_uri": "https://localhost:8080/"
        },
        "outputId": "3050c6c1-7c1e-440f-8a5d-0d1a1220632f"
      },
      "source": [
        "n_ent, n_rel = n_ent_rel(df)\n",
        "assert adler32(str(n_ent + n_ent).encode()) == 50266365\n",
        "n_ent, n_rel"
      ],
      "execution_count": 619,
      "outputs": [
        {
          "output_type": "execute_result",
          "data": {
            "text/plain": [
              "(13506, 228)"
            ]
          },
          "metadata": {},
          "execution_count": 619
        }
      ]
    },
    {
      "cell_type": "markdown",
      "metadata": {
        "id": "1uY5v4yVK60T"
      },
      "source": [
        "We can look at all facts about any entity via pandas API"
      ]
    },
    {
      "cell_type": "code",
      "metadata": {
        "id": "6EBOwS0TK60T",
        "colab": {
          "base_uri": "https://localhost:8080/",
          "height": 203
        },
        "outputId": "adc15912-52ee-4f98-ab91-cb36d6deea1d"
      },
      "source": [
        "df[df.h ==  'aleksandr pushkin'].head()"
      ],
      "execution_count": 620,
      "outputs": [
        {
          "output_type": "execute_result",
          "data": {
            "text/html": [
              "<div>\n",
              "<style scoped>\n",
              "    .dataframe tbody tr th:only-of-type {\n",
              "        vertical-align: middle;\n",
              "    }\n",
              "\n",
              "    .dataframe tbody tr th {\n",
              "        vertical-align: top;\n",
              "    }\n",
              "\n",
              "    .dataframe thead th {\n",
              "        text-align: right;\n",
              "    }\n",
              "</style>\n",
              "<table border=\"1\" class=\"dataframe\">\n",
              "  <thead>\n",
              "    <tr style=\"text-align: right;\">\n",
              "      <th></th>\n",
              "      <th>h</th>\n",
              "      <th>r</th>\n",
              "      <th>t</th>\n",
              "    </tr>\n",
              "  </thead>\n",
              "  <tbody>\n",
              "    <tr>\n",
              "      <th>4107</th>\n",
              "      <td>aleksandr pushkin</td>\n",
              "      <td>/people/person/profession</td>\n",
              "      <td>poet</td>\n",
              "    </tr>\n",
              "    <tr>\n",
              "      <th>14992</th>\n",
              "      <td>aleksandr pushkin</td>\n",
              "      <td>/influence/influence_node/influenced_by</td>\n",
              "      <td>johann wolfgang von goethe</td>\n",
              "    </tr>\n",
              "    <tr>\n",
              "      <th>19525</th>\n",
              "      <td>aleksandr pushkin</td>\n",
              "      <td>/people/person/nationality</td>\n",
              "      <td>russian empire</td>\n",
              "    </tr>\n",
              "    <tr>\n",
              "      <th>40237</th>\n",
              "      <td>aleksandr pushkin</td>\n",
              "      <td>/people/person/place_of_birth</td>\n",
              "      <td>moscow</td>\n",
              "    </tr>\n",
              "    <tr>\n",
              "      <th>47411</th>\n",
              "      <td>aleksandr pushkin</td>\n",
              "      <td>/influence/influence_node/influenced_by</td>\n",
              "      <td>william shakespeare</td>\n",
              "    </tr>\n",
              "  </tbody>\n",
              "</table>\n",
              "</div>"
            ],
            "text/plain": [
              "                       h  ...                           t\n",
              "4107   aleksandr pushkin  ...                        poet\n",
              "14992  aleksandr pushkin  ...  johann wolfgang von goethe\n",
              "19525  aleksandr pushkin  ...              russian empire\n",
              "40237  aleksandr pushkin  ...                      moscow\n",
              "47411  aleksandr pushkin  ...         william shakespeare\n",
              "\n",
              "[5 rows x 3 columns]"
            ]
          },
          "metadata": {},
          "execution_count": 620
        }
      ]
    },
    {
      "cell_type": "code",
      "metadata": {
        "id": "AwWOwXxOK60U",
        "colab": {
          "base_uri": "https://localhost:8080/",
          "height": 80
        },
        "outputId": "6fefed90-7e0b-4c89-f001-4c1efdc5392e"
      },
      "source": [
        "df[(df.h ==  'aleksandr pushkin') & (df.t == 'nikolai gogol')]"
      ],
      "execution_count": 621,
      "outputs": [
        {
          "output_type": "execute_result",
          "data": {
            "text/html": [
              "<div>\n",
              "<style scoped>\n",
              "    .dataframe tbody tr th:only-of-type {\n",
              "        vertical-align: middle;\n",
              "    }\n",
              "\n",
              "    .dataframe tbody tr th {\n",
              "        vertical-align: top;\n",
              "    }\n",
              "\n",
              "    .dataframe thead th {\n",
              "        text-align: right;\n",
              "    }\n",
              "</style>\n",
              "<table border=\"1\" class=\"dataframe\">\n",
              "  <thead>\n",
              "    <tr style=\"text-align: right;\">\n",
              "      <th></th>\n",
              "      <th>h</th>\n",
              "      <th>r</th>\n",
              "      <th>t</th>\n",
              "    </tr>\n",
              "  </thead>\n",
              "  <tbody>\n",
              "    <tr>\n",
              "      <th>145219</th>\n",
              "      <td>aleksandr pushkin</td>\n",
              "      <td>/influence/influence_node/peers./influence/peer_relationship/peers</td>\n",
              "      <td>nikolai gogol</td>\n",
              "    </tr>\n",
              "  </tbody>\n",
              "</table>\n",
              "</div>"
            ],
            "text/plain": [
              "                        h  ...              t\n",
              "145219  aleksandr pushkin  ...  nikolai gogol\n",
              "\n",
              "[1 rows x 3 columns]"
            ]
          },
          "metadata": {},
          "execution_count": 621
        }
      ]
    },
    {
      "cell_type": "code",
      "metadata": {
        "id": "Hf_2GTRwK60U",
        "colab": {
          "base_uri": "https://localhost:8080/",
          "height": 110
        },
        "outputId": "08ac48eb-ffa7-4a57-d951-89f0e3cafb5c"
      },
      "source": [
        "df[(df.h ==  'nikolai gogol') & (df.t == 'aleksandr pushkin')]"
      ],
      "execution_count": 622,
      "outputs": [
        {
          "output_type": "execute_result",
          "data": {
            "text/html": [
              "<div>\n",
              "<style scoped>\n",
              "    .dataframe tbody tr th:only-of-type {\n",
              "        vertical-align: middle;\n",
              "    }\n",
              "\n",
              "    .dataframe tbody tr th {\n",
              "        vertical-align: top;\n",
              "    }\n",
              "\n",
              "    .dataframe thead th {\n",
              "        text-align: right;\n",
              "    }\n",
              "</style>\n",
              "<table border=\"1\" class=\"dataframe\">\n",
              "  <thead>\n",
              "    <tr style=\"text-align: right;\">\n",
              "      <th></th>\n",
              "      <th>h</th>\n",
              "      <th>r</th>\n",
              "      <th>t</th>\n",
              "    </tr>\n",
              "  </thead>\n",
              "  <tbody>\n",
              "    <tr>\n",
              "      <th>86362</th>\n",
              "      <td>nikolai gogol</td>\n",
              "      <td>/influence/influence_node/peers./influence/peer_relationship/peers</td>\n",
              "      <td>aleksandr pushkin</td>\n",
              "    </tr>\n",
              "    <tr>\n",
              "      <th>269512</th>\n",
              "      <td>nikolai gogol</td>\n",
              "      <td>/influence/influence_node/influenced_by</td>\n",
              "      <td>aleksandr pushkin</td>\n",
              "    </tr>\n",
              "  </tbody>\n",
              "</table>\n",
              "</div>"
            ],
            "text/plain": [
              "                    h  ...                  t\n",
              "86362   nikolai gogol  ...  aleksandr pushkin\n",
              "269512  nikolai gogol  ...  aleksandr pushkin\n",
              "\n",
              "[2 rows x 3 columns]"
            ]
          },
          "metadata": {},
          "execution_count": 622
        }
      ]
    },
    {
      "cell_type": "markdown",
      "metadata": {
        "id": "kbNS7iE8K60U"
      },
      "source": [
        "Let us try to find some facts in this dataset. For example, what is Harrison Ford's nationality? (\"harrison ford\" in the dataset)\n",
        "\n",
        "Write a function `harrison_ford_nationality` that takes a dataset and returns the nationality.\n",
        "\n",
        "_Hint: use `pandas.Series.str.contains` method_"
      ]
    },
    {
      "cell_type": "code",
      "metadata": {
        "deletable": false,
        "nbgrader": {
          "cell_type": "code",
          "checksum": "4f23d23c2036f17a865ee09c5de46253",
          "grade": false,
          "grade_id": "cell-bf2eb40c10e9971d",
          "locked": false,
          "schema_version": 3,
          "solution": true,
          "task": false
        },
        "id": "hTXvuCWnK60U"
      },
      "source": [
        "def harrison_ford_nationality(df):\n",
        "    ### BEGIN SOLUTION\n",
        "    return df[(df.h ==  'harrison ford') & df.r.str.contains('nationality')].t.iloc[0]\n",
        "    ### END SOLUTION"
      ],
      "execution_count": 623,
      "outputs": []
    },
    {
      "cell_type": "code",
      "metadata": {
        "deletable": false,
        "editable": false,
        "nbgrader": {
          "cell_type": "code",
          "checksum": "33ecca395ecdf947984d8d303239d6e8",
          "grade": true,
          "grade_id": "cell-e20681a97039cdf6",
          "locked": true,
          "points": 0,
          "schema_version": 3,
          "solution": false,
          "task": false
        },
        "id": "UD7A_QJjK60V",
        "colab": {
          "base_uri": "https://localhost:8080/",
          "height": 36
        },
        "outputId": "403e08de-1d79-4e01-dbb5-8bceca3ffee4"
      },
      "source": [
        "assert adler32(harrison_ford_nationality(df).encode()) == 1948191013\n",
        "harrison_ford_nationality(df)"
      ],
      "execution_count": 624,
      "outputs": [
        {
          "output_type": "execute_result",
          "data": {
            "application/vnd.google.colaboratory.intrinsic+json": {
              "type": "string"
            },
            "text/plain": [
              "'united states of america'"
            ]
          },
          "metadata": {},
          "execution_count": 624
        }
      ]
    },
    {
      "cell_type": "markdown",
      "metadata": {
        "id": "QPHw2hybK60V"
      },
      "source": [
        "More tricky question: who are film directors of movies where Harrison Ford was?\n",
        "\n",
        "Write a function `made_films_with_harrison_ford` that returns a set of directors' names."
      ]
    },
    {
      "cell_type": "code",
      "metadata": {
        "deletable": false,
        "nbgrader": {
          "cell_type": "code",
          "checksum": "ac4a71f632063e89560fc4127de263b1",
          "grade": false,
          "grade_id": "cell-7ea1e48135c759d5",
          "locked": false,
          "schema_version": 3,
          "solution": true,
          "task": false
        },
        "id": "YUuTmHGjK60V"
      },
      "source": [
        "def made_films_with_harrison_ford(df):\n",
        "    ### BEGIN SOLUTION\n",
        "    films = df[(df.h ==  'harrison ford') & df.r.str.contains('actor')].t.tolist()\n",
        "    directors = df[df.t.isin(films) & df.r.str.contains('director')].h\n",
        "    return set(directors)\n",
        "    ### END SOLUTION"
      ],
      "execution_count": 625,
      "outputs": []
    },
    {
      "cell_type": "code",
      "metadata": {
        "deletable": false,
        "editable": false,
        "nbgrader": {
          "cell_type": "code",
          "checksum": "2eb7754948b26f5dd5ea253755fa788b",
          "grade": true,
          "grade_id": "cell-f3dbc03094dcbb5b",
          "locked": true,
          "points": 0,
          "schema_version": 3,
          "solution": false,
          "task": false
        },
        "id": "vWs_vFGgK60V",
        "colab": {
          "base_uri": "https://localhost:8080/"
        },
        "outputId": "78f9ae17-9f21-4b0c-d179-fb168e1c71e7"
      },
      "source": [
        "directors = made_films_with_harrison_ford(df)\n",
        "assert adler32(str(sorted(directors)).encode()) == 3798415057\n",
        "directors"
      ],
      "execution_count": 626,
      "outputs": [
        {
          "output_type": "execute_result",
          "data": {
            "text/plain": [
              "{'francis ford coppola',\n",
              " 'george lucas',\n",
              " 'jon favreau filmography',\n",
              " 'kathryn bigelow',\n",
              " 'mike nichols',\n",
              " 'ridley scott',\n",
              " 'robert zemeckis',\n",
              " 'steven spielberg'}"
            ]
          },
          "metadata": {},
          "execution_count": 626
        }
      ]
    },
    {
      "cell_type": "markdown",
      "metadata": {
        "id": "6sh5HROwK60V"
      },
      "source": [
        "### Task 2. TransE embedding model (2 points)"
      ]
    },
    {
      "cell_type": "markdown",
      "metadata": {
        "id": "zJGCAsilK60W"
      },
      "source": [
        "TransE (translations in the embedding space) is a method which models relationships by interpreting them as translations operating on the low-dimensional embeddings of the entities.\n",
        "\n",
        "Let us implement the model using TorchKGE — a Python module for knowledge graph embedding relying solely on Pytorch."
      ]
    },
    {
      "cell_type": "code",
      "metadata": {
        "id": "Xg4iKE_cK60W"
      },
      "source": [
        "!pip install torchkge==0.16.25 -q"
      ],
      "execution_count": 627,
      "outputs": []
    },
    {
      "cell_type": "code",
      "metadata": {
        "id": "U_RMcZFAK60W"
      },
      "source": [
        "import torch\n",
        "from torch import nn\n",
        "import torch.nn.functional as F\n",
        "from torchkge import KnowledgeGraph\n",
        "from torchkge.utils import Trainer\n",
        "from torchkge.evaluation import LinkPredictionEvaluator\n",
        "from torchkge.models.interfaces import TranslationModel\n",
        "from torch.nn.init import xavier_uniform_"
      ],
      "execution_count": 628,
      "outputs": []
    },
    {
      "cell_type": "markdown",
      "metadata": {
        "id": "Z7OHCTe5K60W"
      },
      "source": [
        "<img src='https://github.com/netspractice/ml-on-graphs/raw/main/assignment_knowledge_graph_embedding/kge.png' width=300>"
      ]
    },
    {
      "cell_type": "markdown",
      "metadata": {
        "id": "WBaQpBkFK60W"
      },
      "source": [
        "The basic idea behind the model is that the functional relation induced by the $r$-labeled edges corresponds to a translation of the embeddings, i.e. we want that $h + r \\approx t$ when ($h$, $r$, $t$) holds ($t$ should be a nearest neighbor of $h + r$), while $h + r$ should be far away from $t$ otherwise. Thereby, TransE scoring function is negative distance between $h+r$ and $t$\n",
        "\n",
        "$$f(h, r, t) = -||h + r - t||$$\n",
        "\n",
        "where $||\\cdot||$ is L1 or L2 norm. The goal of the optimization procedure is learning optimal embeddings, such that the scoring function is able to assign high scores to positive statements and low scores to statements unlikely to be true. The most common loss function is Margin Loss that can be represented as\n",
        "\n",
        "$$L = \\text{ReLU}\\left(\\gamma - f(h, r, t) + f(h', r, t')\\right)$$\n",
        "\n",
        "where $\\gamma > 0$ is a \"margin\" hyperparameter, the triplet $(h, r, t)$ is in a training set (positive) and the $(h', r, t')$ is in a set of *corrupted* (negative) triplets, that are composed of training triplets with either the head or tail replaced by a random entity (but not both at the same time)."
      ]
    },
    {
      "cell_type": "markdown",
      "metadata": {
        "id": "GAuAAuMHK60X"
      },
      "source": [
        "We will use TorchKGE TranslationModel as a base for TransE class, here are some auxiliary methods: \n",
        "\n",
        "* `normalize_parameters` applies `L2` normalization for training stability\n",
        "* `get_embeddings` returns the tensors representing entities and relations\n",
        "* `lp_prep_cands` gets entities and relations embeddings for link prediction training process\n",
        "* `forward` returns scores for positive triplets (`h`, `r`, `t`) and negative triplets (`nh`, `r`, `nt`)"
      ]
    },
    {
      "cell_type": "code",
      "metadata": {
        "id": "-atA75HaK60X"
      },
      "source": [
        "class BaseTransE(TranslationModel):\n",
        "    def __init__(self, num_entities, num_relations, dim=100):\n",
        "        super(BaseTransE, self).__init__(num_entities, num_relations, dissimilarity_type='L2')\n",
        "        self.num_entities = num_entities\n",
        "        self.num_relations = num_relations\n",
        "        self.dim = dim\n",
        "        self.ent_embeddings = nn.Embedding(num_entities, self.dim)\n",
        "        xavier_uniform_(self.ent_embeddings.weight.data)\n",
        "        self.rel_embeddings = nn.Embedding(num_relations, self.dim)\n",
        "        xavier_uniform_(self.rel_embeddings.weight.data)\n",
        "        \n",
        "        self.normalize_parameters()\n",
        "        self.rel_embeddings.weight.data = F.normalize(self.rel_embeddings.weight.data, p=2, dim=1)\n",
        "\n",
        "    def normalize_parameters(self):\n",
        "        self.ent_embeddings.weight.data = F.normalize(self.ent_embeddings.weight.data, p=2, dim=1)\n",
        "\n",
        "    def get_embeddings(self):\n",
        "        self.normalize_parameters()\n",
        "        return self.ent_embeddings.weight.data, self.rel_embeddings.weight.data\n",
        "        \n",
        "    def lp_prep_cands(self, h_idx, t_idx, r_idx):\n",
        "        b_size = h_idx.shape[0]\n",
        "\n",
        "        h_emb = self.ent_embeddings(h_idx)\n",
        "        t_emb = self.ent_embeddings(t_idx)\n",
        "        r_emb = self.rel_embeddings(r_idx)\n",
        "\n",
        "        candidates = self.ent_embeddings.weight.data.view(1, self.num_entities, self.dim)\n",
        "        candidates = candidates.expand(b_size, self.num_entities, self.dim)\n",
        "\n",
        "        return h_emb, t_emb, candidates, r_emb\n",
        "    \n",
        "    def forward(self, h, t, nh, nt, r):\n",
        "        return self.scoring_function(h, t, r), self.scoring_function(nh, nt, r)"
      ],
      "execution_count": 629,
      "outputs": []
    },
    {
      "cell_type": "markdown",
      "metadata": {
        "id": "xXKSeQKiK60X"
      },
      "source": [
        "Write a function `scoring_function` that takes a tensor `h`, `t`, `r` with triplets of the shape (number of triplets) and returns its L2 scores. For training stability, apply L2 normalization (`F.normalize`  with `p=2`) on entities embeddings before computing the scores. Note that `h`, `t`, `r` are tensors with integer IDs of entities and relations."
      ]
    },
    {
      "cell_type": "code",
      "metadata": {
        "deletable": false,
        "nbgrader": {
          "cell_type": "code",
          "checksum": "b28acb89a574281b6b491dc2a892fa97",
          "grade": false,
          "grade_id": "cell-10c450a856899a4f",
          "locked": false,
          "schema_version": 3,
          "solution": true,
          "task": false
        },
        "id": "9hAK2p7AK60Y"
      },
      "source": [
        "class TransE(BaseTransE):\n",
        "    def scoring_function(self, h, t, r):\n",
        "        self.normalize_parameters()\n",
        "        h = self.ent_embeddings(h)\n",
        "        t = self.ent_embeddings(t)\n",
        "        r = self.rel_embeddings(r)\n",
        "        return - torch.norm(h + r - t, p=2, dim=1)"
      ],
      "execution_count": 630,
      "outputs": []
    },
    {
      "cell_type": "code",
      "metadata": {
        "deletable": false,
        "editable": false,
        "nbgrader": {
          "cell_type": "code",
          "checksum": "66b8a2c5364c811beed9f0983df16307",
          "grade": true,
          "grade_id": "cell-89f5ccbf84380079",
          "locked": true,
          "points": 0,
          "schema_version": 3,
          "solution": false,
          "task": false
        },
        "id": "--uHmPX-K60Y"
      },
      "source": [
        "torch.manual_seed(0)\n",
        "model = TransE(num_entities=5, num_relations=2, dim=2)\n",
        "model.ent_embeddings.weight.data = torch.randn(5, 2)\n",
        "model.rel_embeddings.weight.data = torch.randn(2, 2)\n",
        "\n",
        "h = torch.LongTensor([1, 1, 1])\n",
        "r = torch.LongTensor([0, 1, 1])\n",
        "t = torch.LongTensor([2, 2, 3])\n",
        "\n",
        "with torch.no_grad():\n",
        "    scores = model.scoring_function(h, t, r).numpy()\n",
        "assert scores.shape == (3, ) # 3 triplets\n",
        "assert adler32(str(scores.round(2)).encode()) == 628491186"
      ],
      "execution_count": 631,
      "outputs": []
    },
    {
      "cell_type": "markdown",
      "metadata": {
        "id": "ORurPYEFK60Y"
      },
      "source": [
        "Complete the class `MarginLoss` so that computes the losses among scores and returns an average loss. Positive and negative scores are tensors of the shape (number of triplets)."
      ]
    },
    {
      "cell_type": "code",
      "metadata": {
        "deletable": false,
        "nbgrader": {
          "cell_type": "code",
          "checksum": "e152703e15d1c0adb58fa5f20649adcc",
          "grade": false,
          "grade_id": "cell-3fb7cb717cb420cb",
          "locked": false,
          "schema_version": 3,
          "solution": true,
          "task": false
        },
        "id": "t1dGYINPK60Y"
      },
      "source": [
        "class MarginLoss(nn.Module):\n",
        "    def __init__(self, margin):\n",
        "        super().__init__()\n",
        "        self.margin = margin\n",
        "    def forward(self, positive_scores, negative_scores):\n",
        "        a = self.margin\n",
        "        losses = []\n",
        "        for i in range(positive_scores.shape[0]):\n",
        "            losses.append(F.relu(a - positive_scores[i] + negative_scores[i]))\n",
        "        return sum(losses) / len(losses)"
      ],
      "execution_count": 632,
      "outputs": []
    },
    {
      "cell_type": "code",
      "metadata": {
        "deletable": false,
        "editable": false,
        "nbgrader": {
          "cell_type": "code",
          "checksum": "ddad8c020d3e0fe7112475c8f7a059fd",
          "grade": true,
          "grade_id": "cell-b28b48d0354bf7be",
          "locked": true,
          "points": 0,
          "schema_version": 3,
          "solution": false,
          "task": false
        },
        "id": "RLwvOAl4K60Y"
      },
      "source": [
        "loss_fn = MarginLoss(margin=0.5)\n",
        "torch.manual_seed(0)\n",
        "positive_scores = torch.randn(8)\n",
        "negative_scores = torch.randn(8)\n",
        "loss = loss_fn(positive_scores, negative_scores)\n",
        "assert loss.shape == torch.Size([])\n",
        "assert round(loss.item(), 2) == 0.79"
      ],
      "execution_count": 633,
      "outputs": []
    },
    {
      "cell_type": "markdown",
      "metadata": {
        "id": "yqkznajoK60Y"
      },
      "source": [
        "Let us look at the WikiDataSet that presents country-specific subgraphs of Wikidata."
      ]
    },
    {
      "cell_type": "code",
      "metadata": {
        "id": "W5isWKjuK60Z"
      },
      "source": [
        "url = 'https://raw.githubusercontent.com/netspractice/network-science/main/datasets/countries_edges.tsv'\n",
        "open('countries_edges.tsv', 'wb').write(requests.get(url).content)\n",
        "url = 'https://raw.githubusercontent.com/netspractice/network-science/main/datasets/countries_entities.tsv'\n",
        "open('countries_entities.tsv', 'wb').write(requests.get(url).content)\n",
        "url = 'https://raw.githubusercontent.com/netspractice/network-science/main/datasets/countries_relations.tsv'\n",
        "open('countries_relations.tsv', 'wb').write(requests.get(url).content);"
      ],
      "execution_count": 634,
      "outputs": []
    },
    {
      "cell_type": "code",
      "metadata": {
        "id": "zttAOJn6K60Z"
      },
      "source": [
        "edges = pd.read_csv('countries_edges.tsv', sep='\t').values\n",
        "entity_labels = pd.read_csv('countries_entities.tsv', sep='\t', index_col=0).label.values\n",
        "relation_labels = pd.read_csv('countries_relations.tsv', sep='\t', index_col=0).label.values"
      ],
      "execution_count": 635,
      "outputs": []
    },
    {
      "cell_type": "code",
      "metadata": {
        "id": "pS05Q5rKK60Z",
        "colab": {
          "base_uri": "https://localhost:8080/",
          "height": 203
        },
        "outputId": "eaab2d84-262c-42f9-df56-6eb5cc55bf59"
      },
      "source": [
        "edges_labeled = np.stack([entity_labels[edges[:, 0]], \n",
        "                          entity_labels[edges[:, 1]], \n",
        "                          relation_labels[edges[:, 2]]], axis=1)\n",
        "\n",
        "df = pd.DataFrame(edges_labeled, columns=['h', 't', 'r'])[['h', 'r', 't']]\n",
        "df.head()"
      ],
      "execution_count": 636,
      "outputs": [
        {
          "output_type": "execute_result",
          "data": {
            "text/html": [
              "<div>\n",
              "<style scoped>\n",
              "    .dataframe tbody tr th:only-of-type {\n",
              "        vertical-align: middle;\n",
              "    }\n",
              "\n",
              "    .dataframe tbody tr th {\n",
              "        vertical-align: top;\n",
              "    }\n",
              "\n",
              "    .dataframe thead th {\n",
              "        text-align: right;\n",
              "    }\n",
              "</style>\n",
              "<table border=\"1\" class=\"dataframe\">\n",
              "  <thead>\n",
              "    <tr style=\"text-align: right;\">\n",
              "      <th></th>\n",
              "      <th>h</th>\n",
              "      <th>r</th>\n",
              "      <th>t</th>\n",
              "    </tr>\n",
              "  </thead>\n",
              "  <tbody>\n",
              "    <tr>\n",
              "      <th>0</th>\n",
              "      <td>Belgium</td>\n",
              "      <td>country</td>\n",
              "      <td>Belgium</td>\n",
              "    </tr>\n",
              "    <tr>\n",
              "      <th>1</th>\n",
              "      <td>Belgium</td>\n",
              "      <td>diplomatic relation</td>\n",
              "      <td>Luxembourg</td>\n",
              "    </tr>\n",
              "    <tr>\n",
              "      <th>2</th>\n",
              "      <td>Belgium</td>\n",
              "      <td>diplomatic relation</td>\n",
              "      <td>Italy</td>\n",
              "    </tr>\n",
              "    <tr>\n",
              "      <th>3</th>\n",
              "      <td>Belgium</td>\n",
              "      <td>diplomatic relation</td>\n",
              "      <td>Germany</td>\n",
              "    </tr>\n",
              "    <tr>\n",
              "      <th>4</th>\n",
              "      <td>Belgium</td>\n",
              "      <td>diplomatic relation</td>\n",
              "      <td>Liechtenstein</td>\n",
              "    </tr>\n",
              "  </tbody>\n",
              "</table>\n",
              "</div>"
            ],
            "text/plain": [
              "         h                    r              t\n",
              "0  Belgium              country        Belgium\n",
              "1  Belgium  diplomatic relation     Luxembourg\n",
              "2  Belgium  diplomatic relation          Italy\n",
              "3  Belgium  diplomatic relation        Germany\n",
              "4  Belgium  diplomatic relation  Liechtenstein"
            ]
          },
          "metadata": {},
          "execution_count": 636
        }
      ]
    },
    {
      "cell_type": "markdown",
      "metadata": {
        "id": "rHJpkGMcK60Z"
      },
      "source": [
        "Here are unique relations with the number of triplets"
      ]
    },
    {
      "cell_type": "code",
      "metadata": {
        "id": "Ze97q6loK60Z",
        "colab": {
          "base_uri": "https://localhost:8080/"
        },
        "outputId": "08d2cfc6-9b1f-4429-a9dc-cf02d26eeeb8"
      },
      "source": [
        "df.r.groupby(df.r).count()"
      ],
      "execution_count": 637,
      "outputs": [
        {
          "output_type": "execute_result",
          "data": {
            "text/plain": [
              "r\n",
              "applies to jurisdiction                                        1\n",
              "basic form of government                                       3\n",
              "biological process                                             1\n",
              "capital                                                       34\n",
              "capital of                                                    25\n",
              "contains administrative territorial entity                    94\n",
              "country                                                     1339\n",
              "country of citizenship                                         5\n",
              "country of origin                                              1\n",
              "culture                                                        3\n",
              "designated as terrorist by                                     9\n",
              "different from                                               113\n",
              "diplomatic relation                                         6145\n",
              "enclave within                                                 3\n",
              "facet of                                                      13\n",
              "family                                                         1\n",
              "followed by                                                  332\n",
              "follows                                                      316\n",
              "founded by                                                    11\n",
              "has contributing factor                                        1\n",
              "has part                                                     121\n",
              "headquarters location                                          8\n",
              "history of topic                                               2\n",
              "instance of                                                   18\n",
              "located in present-day administrative territorial entity       7\n",
              "located in the administrative territorial entity             212\n",
              "located on terrain feature                                    13\n",
              "location                                                       5\n",
              "location of formation                                          1\n",
              "member of                                                     36\n",
              "merged into                                                    3\n",
              "named after                                                   14\n",
              "opposite of                                                    2\n",
              "owned by                                                       2\n",
              "part of                                                      121\n",
              "partially coincident with                                      4\n",
              "permanent duplicated item                                      2\n",
              "replaced by                                                  462\n",
              "replaces                                                     414\n",
              "said to be the same as                                         8\n",
              "separated from                                                15\n",
              "shares border with                                          1395\n",
              "significant event                                              6\n",
              "subclass of                                                    6\n",
              "territory claimed by                                          18\n",
              "territory overlaps                                             4\n",
              "time period                                                    8\n",
              "topic's main category                                          2\n",
              "twinned administrative body                                    2\n",
              "Name: r, dtype: int64"
            ]
          },
          "metadata": {},
          "execution_count": 637
        }
      ]
    },
    {
      "cell_type": "markdown",
      "metadata": {
        "id": "IKhTANyfK60Z"
      },
      "source": [
        "Convert our dataset into a TorchKGE knowledge graph"
      ]
    },
    {
      "cell_type": "code",
      "metadata": {
        "id": "qu8XEw4PK60Z"
      },
      "source": [
        "kg = KnowledgeGraph(\n",
        "    pd.DataFrame(edges_labeled, columns=['from', 'to', 'rel']))"
      ],
      "execution_count": 638,
      "outputs": []
    },
    {
      "cell_type": "markdown",
      "metadata": {
        "id": "j3ewE6cgK60Z"
      },
      "source": [
        "Split the dataset into train and test set. What differs from the standard method of randomly sampling N points to make up our test set, is that our data points are two entities linked by some relationship, and we need to take care to ensure that all entities are represented in train and test sets by at least one triple.\n",
        "\n"
      ]
    },
    {
      "cell_type": "code",
      "metadata": {
        "id": "cd1yZo0JK60a"
      },
      "source": [
        "kg_train, kg_test = kg.split_kg()"
      ],
      "execution_count": 639,
      "outputs": []
    },
    {
      "cell_type": "markdown",
      "metadata": {
        "id": "zkJq6yAmK60a"
      },
      "source": [
        "Create required objects: model, loss, optimizer and trainer."
      ]
    },
    {
      "cell_type": "code",
      "metadata": {
        "id": "GG0MfNkmK60a"
      },
      "source": [
        "model = TransE(kg_train.n_ent, kg_train.n_rel, dim=64)\n",
        "criterion = MarginLoss(margin=0.5)\n",
        "optimizer = torch.optim.Adam(model.parameters(), lr=0.001)\n",
        "\n",
        "trainer = Trainer(\n",
        "    model, criterion, kg_train, n_epochs=200, \n",
        "    batch_size=2048, optimizer=optimizer)"
      ],
      "execution_count": 640,
      "outputs": []
    },
    {
      "cell_type": "markdown",
      "metadata": {
        "id": "EuY4Ek4mK60a"
      },
      "source": [
        "During training, positive triplets are selected, negative triplets are generated, margin loss is calculated and then the gradient step is performed."
      ]
    },
    {
      "cell_type": "code",
      "metadata": {
        "id": "KH4OyKKVK60a",
        "colab": {
          "base_uri": "https://localhost:8080/",
          "height": 49,
          "referenced_widgets": [
            "cf211e0eca0f4c9f9f8e0bb2406b9558",
            "2d2f7e9387994650a027c7fccb84e801",
            "42496f6f4a2947088acd3c6ee0624141",
            "18dc8957a1cd43c6a90b5adf5c1cb706",
            "152b80ce63804367a0e91ea00c6e7c00",
            "33e420c433c94631b11562ca88d4d85d",
            "dda3e0108bff4437957e55392cbc0cbe",
            "cb363682ff2e4536880dad06a285a928",
            "5029224d98014af1abf5b24ed8ad3d00",
            "a56b494f230b46de8b25651c9d268082",
            "c6c55dae4b904ac4961b09386669fbdb"
          ]
        },
        "outputId": "9f9e5b5d-ca7b-4c1d-9af8-72c181920e90"
      },
      "source": [
        "trainer.run()"
      ],
      "execution_count": 641,
      "outputs": [
        {
          "output_type": "display_data",
          "data": {
            "application/vnd.jupyter.widget-view+json": {
              "model_id": "cf211e0eca0f4c9f9f8e0bb2406b9558",
              "version_minor": 0,
              "version_major": 2
            },
            "text/plain": [
              "  0%|          | 0/200 [00:00<?, ?epoch/s]"
            ]
          },
          "metadata": {}
        }
      ]
    },
    {
      "cell_type": "markdown",
      "metadata": {
        "id": "DJkPj2puK60a"
      },
      "source": [
        "Let us evaluate our model on the link prediction task"
      ]
    },
    {
      "cell_type": "code",
      "metadata": {
        "deletable": false,
        "editable": false,
        "nbgrader": {
          "cell_type": "code",
          "checksum": "3fdf16e46207c504dfec19a2800cd8b7",
          "grade": true,
          "grade_id": "cell-e6b0a4e916e8c503",
          "locked": true,
          "points": 2,
          "schema_version": 3,
          "solution": false,
          "task": false
        },
        "id": "EbckO-yGK60a",
        "colab": {
          "base_uri": "https://localhost:8080/",
          "height": 49,
          "referenced_widgets": [
            "7c57caed967448a2971fe7c045e2662b",
            "0f7847e2e3304fc097758d1e64eac3f6",
            "9d9a2bfd6f7b41689f41c79d410a6ce8",
            "a698ee224a414af3bea599d315d4122c",
            "51d97ba36a8a409c940ead4787f42cfe",
            "e81a3ddf9ba740a2ba096a81f30b96e3",
            "8aa7f104c966413e9838b1c75b412314",
            "875fb742406f49b0a5837adc00c6e70d",
            "cc5a1ab202ac4939b2b809a7240d4e55",
            "dc7ff25adcad48189e9329b08d7fcf80",
            "251fde9c05d54ce5b9635f42419aade2"
          ]
        },
        "outputId": "e6d1a094-5079-457f-c1fa-c7054d64a60e"
      },
      "source": [
        "evaluator = LinkPredictionEvaluator(model, kg_test)\n",
        "evaluator.evaluate(b_size=128)\n",
        "\n",
        "assert evaluator.hit_at_k(k=10)[0] > 0.3\n",
        "assert evaluator.mean_rank()[0] < 70\n",
        "assert evaluator.mrr()[0] > 0.1"
      ],
      "execution_count": 642,
      "outputs": [
        {
          "output_type": "display_data",
          "data": {
            "application/vnd.jupyter.widget-view+json": {
              "model_id": "7c57caed967448a2971fe7c045e2662b",
              "version_minor": 0,
              "version_major": 2
            },
            "text/plain": [
              "Link prediction evaluation:   0%|          | 0/17 [00:00<?, ?batch/s]"
            ]
          },
          "metadata": {}
        }
      ]
    },
    {
      "cell_type": "code",
      "metadata": {
        "id": "ysA-PmzyK60a",
        "colab": {
          "base_uri": "https://localhost:8080/"
        },
        "outputId": "3ec7a0f9-faca-4afb-a684-25ae2f5fb76d"
      },
      "source": [
        "print('Hit@10: {:.4f}'.format(evaluator.hit_at_k(k=10)[0]))\n",
        "print('Mean Rank: {:.4f}'.format(evaluator.mean_rank()[0]))\n",
        "print('MRR: {:.4f}'.format(evaluator.mrr()[0]))"
      ],
      "execution_count": 643,
      "outputs": [
        {
          "output_type": "stream",
          "name": "stdout",
          "text": [
            "Hit@10: 0.3607\n",
            "Mean Rank: 67.6376\n",
            "MRR: 0.1460\n"
          ]
        }
      ]
    },
    {
      "cell_type": "markdown",
      "metadata": {
        "id": "OBt3aw85K60a"
      },
      "source": [
        "`Hit@k` indicates how many times in average a true triple was ranked in the top-k.\n",
        "\n",
        "`Mean Rank` is a mean rank of the true entity when replacing alternatively head and tail in any fact of the dataset.\n",
        "\n",
        "`MRR` is an average of mean recovery rank for head and tail replacement."
      ]
    },
    {
      "cell_type": "markdown",
      "metadata": {
        "id": "U2maDFMeK60b"
      },
      "source": [
        "### Task 3. 2D entity embedding (2 points)"
      ]
    },
    {
      "cell_type": "code",
      "metadata": {
        "id": "1SoLthERK60b"
      },
      "source": [
        "from sklearn.decomposition import TruncatedSVD\n",
        "from sklearn.cluster import k_means\n",
        "import matplotlib.pyplot as plt"
      ],
      "execution_count": 644,
      "outputs": []
    },
    {
      "cell_type": "markdown",
      "metadata": {
        "id": "KoFngWwIK60b"
      },
      "source": [
        "Similarly to node embedding visualization, we can plot 2D embeddings of entities of knowledge graph.\n",
        "\n",
        "Write a function `ent_embeddgins` that takes the model, transforms entity embeddings into 2-dimenstional space via SVD, then finds 2 clusters via k-means and finally returns a tuple: np.array with embeddings and 0/1 labels of clusters."
      ]
    },
    {
      "cell_type": "code",
      "metadata": {
        "deletable": false,
        "nbgrader": {
          "cell_type": "code",
          "checksum": "17f1706f3d95cf3e2c3d9107ca211a69",
          "grade": false,
          "grade_id": "cell-c79123779965d790",
          "locked": false,
          "schema_version": 3,
          "solution": true,
          "task": false
        },
        "id": "6E2HjahoK60b"
      },
      "source": [
        "def ent_embeddgins(model):\n",
        "    x = model.ent_embeddings.weight.data\n",
        "    new_x = TruncatedSVD().fit_transform(x)\n",
        "    _, labels, _ = k_means(new_x, n_clusters=2)\n",
        "    return (new_x, labels)"
      ],
      "execution_count": 645,
      "outputs": []
    },
    {
      "cell_type": "code",
      "metadata": {
        "deletable": false,
        "editable": false,
        "nbgrader": {
          "cell_type": "code",
          "checksum": "635ba30fc4cecbebaba94724a89d4827",
          "grade": true,
          "grade_id": "cell-c4d5a66741d71c62",
          "locked": true,
          "points": 2,
          "schema_version": 3,
          "solution": false,
          "task": false
        },
        "id": "MFAZvIXZK60b"
      },
      "source": [
        "ent_emb, labels = ent_embeddgins(model)\n",
        "assert ent_emb.shape == (1810, 2)\n",
        "assert labels.shape == (1810,)\n",
        "n_label1 = (labels == 1).sum()\n",
        "n_label0 = (labels == 0).sum()\n",
        "assert 0.14 < min(n_label1, n_label0) / max(n_label1, n_label0) < 0.16"
      ],
      "execution_count": 646,
      "outputs": []
    },
    {
      "cell_type": "code",
      "metadata": {
        "id": "QjZuTZn1K60b",
        "colab": {
          "base_uri": "https://localhost:8080/",
          "height": 336
        },
        "outputId": "62df79ff-83ca-4c97-bf9b-633a7fa6cb0f"
      },
      "source": [
        "plt.figure(figsize=(8, 5))\n",
        "colors = np.array(plt.cm.tab10.colors)\n",
        "plt.scatter(ent_emb[:, 0], ent_emb[:, 1], s=10, c=colors[labels])\n",
        "plt.title('Entity embeddings')\n",
        "plt.show()"
      ],
      "execution_count": 647,
      "outputs": [
        {
          "output_type": "display_data",
          "data": {
            "image/png": "[encoded data removed]",
            "text/plain": [
              "<Figure size 576x360 with 1 Axes>"
            ]
          },
          "metadata": {
            "needs_background": "light"
          }
        }
      ]
    },
    {
      "cell_type": "markdown",
      "metadata": {
        "id": "t0Fde2WwK60b"
      },
      "source": [
        "Let us look at some randomly chosen entities from each cluster. Here we use `kg.ent2ix` dictionary to get labels of entities."
      ]
    },
    {
      "cell_type": "code",
      "metadata": {
        "id": "Fo4bBHuDK60b",
        "colab": {
          "base_uri": "https://localhost:8080/"
        },
        "outputId": "511f69d6-0f58-4c24-a9c9-ff7b554845a2"
      },
      "source": [
        "ent_labels = np.array(list(kg.ent2ix.keys()))\n",
        "print('First cluster: ', ', '.join(\n",
        "    np.random.permutation(ent_labels[labels == 0])[:10]))\n",
        "print()\n",
        "print('Second cluster: ', ', '.join(\n",
        "    np.random.permutation(ent_labels[labels == 1])[:10]))"
      ],
      "execution_count": 648,
      "outputs": [
        {
          "output_type": "stream",
          "name": "stdout",
          "text": [
            "First cluster:  Kesultanan Gunung Tabur, Margraviate of Baden-Hachberg, Deccan sultanates, Far Eastern Republic, Giudicato of Gallura, Eastern Chalukyas, Twentieth Dynasty of Egypt, Toucouleur Empire, Lotharingia, Upper Aulaqi Sheikhdom\n",
            "\n",
            "Second cluster:  Eritrea, Philippines, Ukraine, Israel, Indonesia, South Sudan, Portugal, Zambia, Paraguay, Mauritania\n"
          ]
        }
      ]
    },
    {
      "cell_type": "markdown",
      "metadata": {
        "id": "3n7Q0720K60c"
      },
      "source": [
        "### Task 4. Nearest neighbors of an entity (2 points)"
      ]
    },
    {
      "cell_type": "code",
      "metadata": {
        "id": "uX4R3sPMK60c"
      },
      "source": [
        "from sklearn.neighbors import NearestNeighbors"
      ],
      "execution_count": 649,
      "outputs": []
    },
    {
      "cell_type": "markdown",
      "metadata": {
        "id": "kFZiMsY2K60c"
      },
      "source": [
        "Let us find a nearest neighbors of Belgium using embedding space.\n",
        "\n",
        "Write a function `similar_countries` that takes a name of country, graph and model and returns a list with names of nearest countries. Use `model.get_embeddings()`."
      ]
    },
    {
      "cell_type": "code",
      "metadata": {
        "deletable": false,
        "nbgrader": {
          "cell_type": "code",
          "checksum": "2914a4ae39cc291785e97e21b00d67ae",
          "grade": false,
          "grade_id": "cell-fe878bfa8dc0c817",
          "locked": false,
          "schema_version": 3,
          "solution": true,
          "task": false
        },
        "id": "ibc9iNM8K60c"
      },
      "source": [
        "def similar_countries(name, kg, model):\n",
        "    ent_emb, rel_emb = model.get_embeddings()\n",
        "\n",
        "    name_idx = kg.ent2ix[name]\n",
        "\n",
        "    neigh = NearestNeighbors(n_neighbors=10)\n",
        "    neigh.fit(ent_emb)\n",
        "    neib_idx = neigh.kneighbors(ent_emb[name_idx].reshape(1, -1), 10, return_distance=False)\n",
        "\n",
        "    neib_names = []\n",
        "    for i in range(neib_idx.shape[1]):\n",
        "        for key in kg.ent2ix:\n",
        "            if kg.ent2ix[key] == neib_idx[0][i]:\n",
        "                neib_names.append(key)\n",
        "                break\n",
        "    return neib_names"
      ],
      "execution_count": 650,
      "outputs": []
    },
    {
      "cell_type": "code",
      "metadata": {
        "deletable": false,
        "editable": false,
        "nbgrader": {
          "cell_type": "code",
          "checksum": "4e88d5279728e100642339d7f1e4136e",
          "grade": true,
          "grade_id": "cell-0b8b02590a965cc3",
          "locked": true,
          "points": 2,
          "schema_version": 3,
          "solution": false,
          "task": false
        },
        "id": "F8ongv9QK60c",
        "colab": {
          "base_uri": "https://localhost:8080/"
        },
        "outputId": "74978a23-83e1-450f-8722-8ddd4c22caa7"
      },
      "source": [
        "similar = similar_countries('Belgium', kg, model)\n",
        "assert 'Netherlands' in similar\n",
        "similar"
      ],
      "execution_count": 651,
      "outputs": [
        {
          "output_type": "execute_result",
          "data": {
            "text/plain": [
              "['Belgium',\n",
              " 'Luxembourg',\n",
              " 'France',\n",
              " 'Netherlands',\n",
              " 'Uruguay',\n",
              " 'Hungary',\n",
              " 'Pakistan',\n",
              " 'Greece',\n",
              " 'Kingdom of the Netherlands',\n",
              " 'Switzerland']"
            ]
          },
          "metadata": {},
          "execution_count": 651
        }
      ]
    },
    {
      "cell_type": "markdown",
      "metadata": {
        "id": "pKBApi7rK60c"
      },
      "source": [
        "### Task 5. Relation prediction  (2 points)"
      ]
    },
    {
      "cell_type": "markdown",
      "metadata": {
        "id": "j5pORtBkK60c"
      },
      "source": [
        "Let us consider these facts:\n",
        "1. Belgium shares border with France\n",
        "2. Belgium shares border with Switzerland\n",
        "3. Belgium shares border with Nigeria\n",
        "\n",
        "Only the fact 1 is truth, but it seems that the fact 2 is more likely than 3."
      ]
    },
    {
      "cell_type": "code",
      "metadata": {
        "id": "rqEGFozzK60c",
        "colab": {
          "base_uri": "https://localhost:8080/",
          "height": 110
        },
        "outputId": "bc81f5f6-0470-4f68-b5d5-bf29269b197a"
      },
      "source": [
        "df[(df.h == 'Belgium') & (df.t == 'France')]"
      ],
      "execution_count": 652,
      "outputs": [
        {
          "output_type": "execute_result",
          "data": {
            "text/html": [
              "<div>\n",
              "<style scoped>\n",
              "    .dataframe tbody tr th:only-of-type {\n",
              "        vertical-align: middle;\n",
              "    }\n",
              "\n",
              "    .dataframe tbody tr th {\n",
              "        vertical-align: top;\n",
              "    }\n",
              "\n",
              "    .dataframe thead th {\n",
              "        text-align: right;\n",
              "    }\n",
              "</style>\n",
              "<table border=\"1\" class=\"dataframe\">\n",
              "  <thead>\n",
              "    <tr style=\"text-align: right;\">\n",
              "      <th></th>\n",
              "      <th>h</th>\n",
              "      <th>r</th>\n",
              "      <th>t</th>\n",
              "    </tr>\n",
              "  </thead>\n",
              "  <tbody>\n",
              "    <tr>\n",
              "      <th>8</th>\n",
              "      <td>Belgium</td>\n",
              "      <td>diplomatic relation</td>\n",
              "      <td>France</td>\n",
              "    </tr>\n",
              "    <tr>\n",
              "      <th>32</th>\n",
              "      <td>Belgium</td>\n",
              "      <td>shares border with</td>\n",
              "      <td>France</td>\n",
              "    </tr>\n",
              "  </tbody>\n",
              "</table>\n",
              "</div>"
            ],
            "text/plain": [
              "          h                    r       t\n",
              "8   Belgium  diplomatic relation  France\n",
              "32  Belgium   shares border with  France"
            ]
          },
          "metadata": {},
          "execution_count": 652
        }
      ]
    },
    {
      "cell_type": "code",
      "metadata": {
        "id": "XzrfSohvK60c",
        "colab": {
          "base_uri": "https://localhost:8080/",
          "height": 49
        },
        "outputId": "7cbbbe6b-1498-452b-a0c6-14d352655eed"
      },
      "source": [
        "df[(df.h == 'Belgium') & (df.t == 'Switzerland')]"
      ],
      "execution_count": 653,
      "outputs": [
        {
          "output_type": "execute_result",
          "data": {
            "text/html": [
              "<div>\n",
              "<style scoped>\n",
              "    .dataframe tbody tr th:only-of-type {\n",
              "        vertical-align: middle;\n",
              "    }\n",
              "\n",
              "    .dataframe tbody tr th {\n",
              "        vertical-align: top;\n",
              "    }\n",
              "\n",
              "    .dataframe thead th {\n",
              "        text-align: right;\n",
              "    }\n",
              "</style>\n",
              "<table border=\"1\" class=\"dataframe\">\n",
              "  <thead>\n",
              "    <tr style=\"text-align: right;\">\n",
              "      <th></th>\n",
              "      <th>h</th>\n",
              "      <th>r</th>\n",
              "      <th>t</th>\n",
              "    </tr>\n",
              "  </thead>\n",
              "  <tbody>\n",
              "  </tbody>\n",
              "</table>\n",
              "</div>"
            ],
            "text/plain": [
              "Empty DataFrame\n",
              "Columns: [h, r, t]\n",
              "Index: []"
            ]
          },
          "metadata": {},
          "execution_count": 653
        }
      ]
    },
    {
      "cell_type": "code",
      "metadata": {
        "id": "VPta_kG7K60c",
        "colab": {
          "base_uri": "https://localhost:8080/",
          "height": 49
        },
        "outputId": "f06eee3b-655a-4645-baf8-2487d4e9aa74"
      },
      "source": [
        "df[(df.h == 'Belgium') & (df.t == 'Nigeria')]"
      ],
      "execution_count": 654,
      "outputs": [
        {
          "output_type": "execute_result",
          "data": {
            "text/html": [
              "<div>\n",
              "<style scoped>\n",
              "    .dataframe tbody tr th:only-of-type {\n",
              "        vertical-align: middle;\n",
              "    }\n",
              "\n",
              "    .dataframe tbody tr th {\n",
              "        vertical-align: top;\n",
              "    }\n",
              "\n",
              "    .dataframe thead th {\n",
              "        text-align: right;\n",
              "    }\n",
              "</style>\n",
              "<table border=\"1\" class=\"dataframe\">\n",
              "  <thead>\n",
              "    <tr style=\"text-align: right;\">\n",
              "      <th></th>\n",
              "      <th>h</th>\n",
              "      <th>r</th>\n",
              "      <th>t</th>\n",
              "    </tr>\n",
              "  </thead>\n",
              "  <tbody>\n",
              "  </tbody>\n",
              "</table>\n",
              "</div>"
            ],
            "text/plain": [
              "Empty DataFrame\n",
              "Columns: [h, r, t]\n",
              "Index: []"
            ]
          },
          "metadata": {},
          "execution_count": 654
        }
      ]
    },
    {
      "cell_type": "markdown",
      "metadata": {
        "id": "4vnvSP1tK60c"
      },
      "source": [
        "Now we can compare these facts using scoring function of TransE model to check our prior knowledge.\n",
        "\n",
        "Write a function `belgium_facts` that takes a model, a graph and returns 3 values of scoring function for each fact. Use `model.scoring_function` with `torch.no_grad()`."
      ]
    },
    {
      "cell_type": "code",
      "metadata": {
        "deletable": false,
        "nbgrader": {
          "cell_type": "code",
          "checksum": "d6b24f412af3938aadfd82f350222dcb",
          "grade": false,
          "grade_id": "cell-5feee5e866b961d0",
          "locked": false,
          "schema_version": 3,
          "solution": true,
          "task": false
        },
        "id": "Pbg3rDtLK60d"
      },
      "source": [
        "def belgium_facts(model, kg):\n",
        "    name = 'Belgium'\n",
        "    relation = 'shares border with'\n",
        "    with torch.no_grad():\n",
        "        scores = model.scoring_function(torch.tensor([kg.ent2ix[name], kg.ent2ix[name], kg.ent2ix[name]]),\n",
        "                                      torch.tensor([kg.ent2ix['France'], kg.ent2ix['Switzerland'], kg.ent2ix['Nigeria']]),\n",
        "                                      torch.tensor([kg.rel2ix[relation], kg.rel2ix[relation], kg.rel2ix[relation]]))\n",
        "    return scores"
      ],
      "execution_count": 655,
      "outputs": []
    },
    {
      "cell_type": "code",
      "metadata": {
        "deletable": false,
        "editable": false,
        "nbgrader": {
          "cell_type": "code",
          "checksum": "98d6fe874d2842dbac1afec5c7219b09",
          "grade": true,
          "grade_id": "cell-a6b6e4e88ba6569f",
          "locked": true,
          "points": 2,
          "schema_version": 3,
          "solution": false,
          "task": false
        },
        "id": "hkS3LvloK60d",
        "colab": {
          "base_uri": "https://localhost:8080/"
        },
        "outputId": "6235ebe1-3f31-442b-da31-67e8c5196120"
      },
      "source": [
        "scores = belgium_facts(model, kg)\n",
        "assert scores[0] > scores[1] > scores[2]\n",
        "scores"
      ],
      "execution_count": 656,
      "outputs": [
        {
          "output_type": "execute_result",
          "data": {
            "text/plain": [
              "tensor([-0.6170, -0.7143, -0.9897])"
            ]
          },
          "metadata": {},
          "execution_count": 656
        }
      ]
    },
    {
      "cell_type": "markdown",
      "metadata": {
        "id": "3sKdS5iIK60d"
      },
      "source": [
        "### Task 6. Tail prediction (2 points)"
      ]
    },
    {
      "cell_type": "code",
      "metadata": {
        "id": "7u5D7vxIK60d"
      },
      "source": [
        "from sklearn.neighbors import NearestNeighbors"
      ],
      "execution_count": 657,
      "outputs": []
    },
    {
      "cell_type": "markdown",
      "metadata": {
        "id": "dojJmrn_K60d"
      },
      "source": [
        "Recall that the main idea of TransE is to learn $h + r \\approx t$, so let us find the closest tails for the head + relation pair.\n",
        "\n",
        "Write a function `soviet_tail` that takes a model, graph and finds 5 nearest neighbors for the pair $h$ is \"Soviet Union\" and $r$ is \"founded by\"."
      ]
    },
    {
      "cell_type": "code",
      "metadata": {
        "deletable": false,
        "nbgrader": {
          "cell_type": "code",
          "checksum": "803dd88ce8a03a13810ab252b70a682e",
          "grade": false,
          "grade_id": "cell-dbc103d80a938c68",
          "locked": false,
          "schema_version": 3,
          "solution": true,
          "task": false
        },
        "id": "WNVWxQVjK60d"
      },
      "source": [
        "def soviet_tail(model, kg):\n",
        "    h = kg.ent2ix['Soviet Union']\n",
        "    r = kg.rel2ix['founded by']\n",
        "    ent_emb, rel_emb = model.get_embeddings()\n",
        "\n",
        "    neigh = NearestNeighbors(n_neighbors=5)\n",
        "    neigh.fit(ent_emb)\n",
        "    neib_idx = neigh.kneighbors((ent_emb[h] + rel_emb[r]).reshape(1, -1), 5, return_distance=False)\n",
        "\n",
        "    neib_names = []\n",
        "    for i in range(neib_idx.shape[1]):\n",
        "        for key in kg.ent2ix:\n",
        "            if kg.ent2ix[key] == neib_idx[0][i]:\n",
        "                neib_names.append(key)\n",
        "                break\n",
        "    return neib_names"
      ],
      "execution_count": 658,
      "outputs": []
    },
    {
      "cell_type": "code",
      "metadata": {
        "deletable": false,
        "editable": false,
        "nbgrader": {
          "cell_type": "code",
          "checksum": "33531b4432249879e8a7b4342f576f69",
          "grade": true,
          "grade_id": "cell-ba34f9e5a695e8ca",
          "locked": true,
          "points": 2,
          "schema_version": 3,
          "solution": false,
          "task": false
        },
        "id": "fT0ew7M7K60d",
        "colab": {
          "base_uri": "https://localhost:8080/"
        },
        "outputId": "719496d6-35be-4296-dbbc-341f8405748d"
      },
      "source": [
        "tails = soviet_tail(model, kg)\n",
        "assert 'Russian Soviet Federative Socialist Republic' in tails\n",
        "tails"
      ],
      "execution_count": 659,
      "outputs": [
        {
          "output_type": "execute_result",
          "data": {
            "text/plain": [
              "['Soviet Union',\n",
              " 'Russian Empire',\n",
              " 'Empire of Japan',\n",
              " 'Russian Soviet Federative Socialist Republic',\n",
              " 'Second Polish Republic']"
            ]
          },
          "metadata": {},
          "execution_count": 659
        }
      ]
    },
    {
      "cell_type": "code",
      "metadata": {
        "id": "D3njQPxhK60d"
      },
      "source": [
        ""
      ],
      "execution_count": null,
      "outputs": []
    }
  ]
}